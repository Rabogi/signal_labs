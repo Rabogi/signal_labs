{
 "cells": [
  {
   "cell_type": "markdown",
   "metadata": {},
   "source": [
    "# Подключение библиотек и задание входных данных"
   ]
  },
  {
   "cell_type": "code",
   "execution_count": 23,
   "metadata": {},
   "outputs": [],
   "source": [
    "import matplotlib.pyplot as plt\n",
    "import scipy.fft as sp\n",
    "import math\n",
    "import cmath\n",
    "\n",
    "q = 8\n",
    "sw = True\n",
    "\n",
    "N = 16\n",
    "filter = 10000\n",
    "A = [1,5,3,7,3,2,1]\n",
    "f = [0.5,1,2,5,7,9,12]\n",
    "\n",
    "samples = range(0,N)\n",
    "\n",
    "k = 7\n",
    "pi = math.pi\n",
    "\n",
    "f = [i*1000 for i in f]"
   ]
  },
  {
   "cell_type": "markdown",
   "metadata": {},
   "source": [
    "# Расчёт изначального сигнала и преобразование до целых чисел"
   ]
  },
  {
   "cell_type": "code",
   "execution_count": 24,
   "metadata": {},
   "outputs": [
    {
     "data": {
      "image/png": "[encoded data removed]",
      "text/plain": [
       "<Figure size 600x300 with 2 Axes>"
      ]
     },
     "metadata": {},
     "output_type": "display_data"
    }
   ],
   "source": [
    "fd = 75000\n",
    "if max(f) > 30000:\n",
    "    fd = 110000\n",
    "Td = 1/fd\n",
    "\n",
    "t = []\n",
    "x = []\n",
    "\n",
    "for n in samples:\n",
    "    t.append(n * Td)\n",
    "    x.append(0)\n",
    "    for i in range(0,k):\n",
    "        x[n] += A[i] * math.sin(2*pi*f[i]*t[n])\n",
    "\n",
    "x_old = x\n",
    "\n",
    "x = [int(i) for i in x]\n",
    "\n",
    "fig, axs = plt.subplots(ncols=2,nrows=1,figsize=(6, 3))\n",
    "\n",
    "axs[0].set_title(\"Исходный сигнал\")\n",
    "axs[0].plot(samples, x_old, 'teal')\n",
    "\n",
    "axs[1].set_title(\"Целочисленный сигнал\")\n",
    "axs[1].plot(samples, x, 'violet')\n",
    "\n",
    "if sw:\n",
    "    plt.show()"
   ]
  },
  {
   "cell_type": "markdown",
   "metadata": {},
   "source": [
    "# Натягивание совы на глобус"
   ]
  },
  {
   "cell_type": "code",
   "execution_count": 25,
   "metadata": {},
   "outputs": [],
   "source": [
    "D = 2**q\n",
    "\n",
    "def Wf(x):\n",
    "    return ((math.e**(-(cmath.sqrt(-1)*2*(pi/N)*x))))\n",
    "\n",
    "def Wf_2(x):\n",
    "    d = ((math.e**(-(cmath.sqrt(-1)*2*(pi/N)*x))))*D/2\n",
    "    if (x == 0):\n",
    "        return 0\n",
    "    return d\n",
    "\n",
    "def Bab(A,B,W):\n",
    "    print(W)\n",
    "    return [A+B*W,A-B*W]\n",
    "\n",
    "def compSum(C1,C2):\n",
    "    a = C1.real\n",
    "    b = C1.imag\n",
    "    c = C2.real\n",
    "    d = C2.imag\n",
    "\n",
    "    return complex(a + c,b + d)\n",
    "\n",
    "def compSub(C1,C2):\n",
    "    a = C1.real\n",
    "    b = C1.imag\n",
    "    c = C2.real\n",
    "    d = C2.imag\n",
    "\n",
    "    return complex(a - c,b - d)\n",
    "\n",
    "def compMul(C1,C2):\n",
    "    a = C1.real\n",
    "    b = C1.imag\n",
    "    c = C2.real\n",
    "    d = C2.imag\n",
    "\n",
    "    return complex(a*c-b*d,a*d+b*c)\n",
    "\n",
    "def Bab_2(A,B,W):\n",
    "    print(W)\n",
    "    return [compSum(A,compMul(B,W)),compSub(A,compMul(B,W))]\n",
    "\n",
    "def BabL(AB,k):\n",
    "    AB_out = [0 for i in range(0,len(AB))]\n",
    "    lenH = len(AB)//2\n",
    "    for i in range(0,lenH):\n",
    "        AB_out[i],AB_out[i+lenH] = Bab(AB[i],AB[i+lenH],Wf(k))\n",
    "    return AB_out\n",
    "\n",
    "def Babl_2(AB,k):\n",
    "    AB_out = [0 for i in range(0,len(AB))]\n",
    "    lenH = len(AB)//2\n",
    "    for i in range(0,lenH):\n",
    "        AB_out[i],AB_out[i+lenH] = Bab_2(AB[i],AB[i+lenH],Wf_2(k))\n",
    "    return AB_out"
   ]
  },
  {
   "cell_type": "markdown",
   "metadata": {},
   "source": [
    "# Бабочки"
   ]
  },
  {
   "cell_type": "markdown",
   "metadata": {},
   "source": [
    "Изначальная"
   ]
  },
  {
   "cell_type": "code",
   "execution_count": 26,
   "metadata": {},
   "outputs": [
    {
     "name": "stdout",
     "output_type": "stream",
     "text": [
      "(1+0j)\n",
      "(1+0j)\n",
      "(1+0j)\n",
      "(1+0j)\n",
      "(1+0j)\n",
      "(1+0j)\n",
      "(1+0j)\n",
      "(1+0j)\n",
      "(1+0j)\n",
      "(1+0j)\n",
      "(1+0j)\n",
      "(1+0j)\n",
      "(6.123233995736766e-17-1j)\n",
      "(6.123233995736766e-17-1j)\n",
      "(6.123233995736766e-17-1j)\n",
      "(6.123233995736766e-17-1j)\n",
      "(1+0j)\n",
      "(1+0j)\n",
      "(6.123233995736766e-17-1j)\n",
      "(6.123233995736766e-17-1j)\n",
      "(0.7071067811865476-0.7071067811865475j)\n",
      "(0.7071067811865476-0.7071067811865475j)\n",
      "(-0.7071067811865475-0.7071067811865476j)\n",
      "(-0.7071067811865475-0.7071067811865476j)\n",
      "(1+0j)\n",
      "(6.123233995736766e-17-1j)\n",
      "(0.7071067811865476-0.7071067811865475j)\n",
      "(-0.7071067811865475-0.7071067811865476j)\n",
      "(0.9238795325112867-0.3826834323650898j)\n",
      "(-0.3826834323650897-0.9238795325112867j)\n",
      "(0.38268343236508984-0.9238795325112867j)\n",
      "(-0.9238795325112867-0.3826834323650899j)\n"
     ]
    }
   ],
   "source": [
    "gen_old = []\n",
    "gen_old.append(x_old)\n",
    "\n",
    "gen_old.append(BabL(gen_old[0],0))\n",
    "\n",
    "gen_old.append([0 for i in gen_old[1]])\n",
    "\n",
    "gen_old[2][:8] = BabL(gen_old[1][0:8],0)\n",
    "gen_old[2][8:] = BabL(gen_old[1][8:],4)\n",
    "\n",
    "gen_old.append([0 for i in gen_old[2]])\n",
    "\n",
    "gen_old[3][:4] = BabL(gen_old[2][:4],0)\n",
    "gen_old[3][4:8] = BabL(gen_old[2][4:8],4)\n",
    "gen_old[3][8:12] = BabL(gen_old[2][8:12],2)\n",
    "gen_old[3][12:] = BabL(gen_old[2][12:],6)\n",
    "\n",
    "gen_old.append([0 for i in gen_old[3]])\n",
    "\n",
    "gen_old[4][:2] = BabL(gen_old[3][:2],0)\n",
    "gen_old[4][2:4] = BabL(gen_old[3][2:4],4)\n",
    "gen_old[4][4:6] = BabL(gen_old[3][4:6],2)\n",
    "gen_old[4][6:8] = BabL(gen_old[3][6:8],6)\n",
    "gen_old[4][8:10] = BabL(gen_old[3][8:10],1)\n",
    "gen_old[4][10:12] = BabL(gen_old[3][10:12],5)\n",
    "gen_old[4][12:14] = BabL(gen_old[3][12:14],3)\n",
    "gen_old[4][14:] = BabL(gen_old[3][14:],7)\n",
    "\n",
    "ts_old = [gen_old[4][0],gen_old[4][8],gen_old[4][4],gen_old[4][12],gen_old[4][2],gen_old[4][10],gen_old[4][6],gen_old[4][14],gen_old[4][1],gen_old[4][9],gen_old[4][5],gen_old[4][13],gen_old[4][3],gen_old[4][11],gen_old[4][7],gen_old[4][15]]"
   ]
  },
  {
   "cell_type": "markdown",
   "metadata": {},
   "source": [
    "Новая"
   ]
  },
  {
   "cell_type": "code",
   "execution_count": 27,
   "metadata": {},
   "outputs": [
    {
     "name": "stdout",
     "output_type": "stream",
     "text": [
      "0\n",
      "0\n",
      "0\n",
      "0\n",
      "0\n",
      "0\n",
      "0\n",
      "0\n",
      "0\n",
      "0\n",
      "0\n",
      "0\n",
      "(7.83773951454306e-15-128j)\n",
      "(7.83773951454306e-15-128j)\n",
      "(7.83773951454306e-15-128j)\n",
      "(7.83773951454306e-15-128j)\n",
      "0\n",
      "0\n",
      "(7.83773951454306e-15-128j)\n",
      "(7.83773951454306e-15-128j)\n",
      "(90.50966799187809-90.50966799187808j)\n",
      "(90.50966799187809-90.50966799187808j)\n",
      "(-90.50966799187808-90.50966799187809j)\n",
      "(-90.50966799187808-90.50966799187809j)\n",
      "0\n",
      "(7.83773951454306e-15-128j)\n",
      "(90.50966799187809-90.50966799187808j)\n",
      "(-90.50966799187808-90.50966799187809j)\n",
      "(118.2565801614447-48.98347934273149j)\n",
      "(-48.983479342731485-118.2565801614447j)\n",
      "(48.9834793427315-118.2565801614447j)\n",
      "(-118.2565801614447-48.983479342731506j)\n"
     ]
    }
   ],
   "source": [
    "gen = []\n",
    "gen.append(x)\n",
    "\n",
    "gen.append(Babl_2(gen[0],0))\n",
    "\n",
    "gen.append([0 for i in gen[1]])\n",
    "\n",
    "gen[2][:8] = Babl_2(gen[1][0:8],0)\n",
    "gen[2][8:] = Babl_2(gen[1][8:],4)\n",
    "\n",
    "gen.append([0 for i in gen[2]])\n",
    "\n",
    "gen[3][:4] = Babl_2(gen[2][:4],0)\n",
    "gen[3][4:8] = Babl_2(gen[2][4:8],4)\n",
    "gen[3][8:12] = Babl_2(gen[2][8:12],2)\n",
    "gen[3][12:] = Babl_2(gen[2][12:],6)\n",
    "\n",
    "gen.append([0 for i in gen[3]])\n",
    "\n",
    "gen[4][:2] = Babl_2(gen[3][:2],0)\n",
    "gen[4][2:4] = Babl_2(gen[3][2:4],4)\n",
    "gen[4][4:6] = Babl_2(gen[3][4:6],2)\n",
    "gen[4][6:8] = Babl_2(gen[3][6:8],6)\n",
    "gen[4][8:10] = Babl_2(gen[3][8:10],1)\n",
    "gen[4][10:12] = Babl_2(gen[3][10:12],5)\n",
    "gen[4][12:14] = Babl_2(gen[3][12:14],3)\n",
    "gen[4][14:] = Babl_2(gen[3][14:],7)\n",
    "\n",
    "ts = [gen[4][0],gen[4][8],gen[4][4],gen[4][12],gen[4][2],gen[4][10],gen[4][6],gen[4][14],gen[4][1],gen[4][9],gen[4][5],gen[4][13],gen[4][3],gen[4][11],gen[4][7],gen[4][15]]"
   ]
  },
  {
   "cell_type": "markdown",
   "metadata": {},
   "source": [
    "# Графики"
   ]
  },
  {
   "cell_type": "code",
   "execution_count": 28,
   "metadata": {},
   "outputs": [
    {
     "data": {
      "text/plain": [
       "[<matplotlib.lines.Line2D at 0x7f8eb1511210>]"
      ]
     },
     "execution_count": 28,
     "metadata": {},
     "output_type": "execute_result"
    },
    {
     "data": {
      "image/png": "[encoded data removed]",
      "text/plain": [
       "<Figure size 600x300 with 2 Axes>"
      ]
     },
     "metadata": {},
     "output_type": "display_data"
    }
   ],
   "source": [
    "fig, axs = plt.subplots(ncols=2,nrows=1,figsize=(6, 3))\n",
    "\n",
    "axs[0].set_title(\"Старый\")\n",
    "axs[0].plot(samples, ts_old, 'teal')\n",
    "\n",
    "axs[1].set_title(\"Новый\")\n",
    "axs[1].plot(samples, ts, 'violet')"
   ]
  }
 ],
 "metadata": {
  "kernelspec": {
   "display_name": "Python 3",
   "language": "python",
   "name": "python3"
  },
  "language_info": {
   "codemirror_mode": {
    "name": "ipython",
    "version": 3
   },
   "file_extension": ".py",
   "mimetype": "text/x-python",
   "name": "python",
   "nbconvert_exporter": "python",
   "pygments_lexer": "ipython3",
   "version": "3.11.7"
  }
 },
 "nbformat": 4,
 "nbformat_minor": 2
}
